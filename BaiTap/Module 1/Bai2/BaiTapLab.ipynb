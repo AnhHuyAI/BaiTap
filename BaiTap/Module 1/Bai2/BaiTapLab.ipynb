{
  "nbformat": 4,
  "nbformat_minor": 0,
  "metadata": {
    "colab": {
      "provenance": []
    },
    "kernelspec": {
      "name": "python3",
      "display_name": "Python 3"
    },
    "language_info": {
      "name": "python"
    }
  },
  "cells": [
    {
      "cell_type": "code",
      "execution_count": null,
      "metadata": {
        "colab": {
          "base_uri": "https://localhost:8080/"
        },
        "id": "98A9VsjYb-RT",
        "outputId": "950e737f-0ab0-4c3a-d79e-615fd2a52176"
      },
      "outputs": [
        {
          "output_type": "stream",
          "name": "stdout",
          "text": [
            "2.54\n",
            "Bạn nhập vào :2.54 cm\n",
            "Vậy số inch của bạn là : 1.0 inch\n",
            "Vậy số foot của bạn là : 12.0 foot\n"
          ]
        }
      ],
      "source": [
        "nhapvao = input()\n",
        "cm = float(nhapvao)\n",
        "print(f\"Bạn nhập vào :{cm} cm\")\n",
        "inch = 2.54/cm\n",
        "print(f\"Vậy số inch của bạn là : {inch} inch\")\n",
        "foot = 30.48/cm\n",
        "print(f\"Vậy số foot của bạn là : {foot} foot\")"
      ]
    },
    {
      "cell_type": "code",
      "source": [
        "print(\"Nhập vào số trong giới hạn từ 0 đến 68399\")\n",
        "nhapvao = input()\n",
        "print(\"Số bạn nhập là: \" +nhapvao)\n",
        "giay = int(nhapvao)\n",
        "if 0 < giay and giay <= 68399:\n",
        "  gio = giay // 3600\n",
        "  phut = (giay%3600) // 60\n",
        "  giay = giay % 60\n",
        "  print(f\"Thời gian là : {gio} giờ {phut} phút {giay} giây. Chúc bạn một ngày vui vẻ\")\n",
        "else:\n",
        "  print(\"Vui Lòng Nhập Lại\")"
      ],
      "metadata": {
        "colab": {
          "base_uri": "https://localhost:8080/"
        },
        "id": "6AOMLZMUeul2",
        "outputId": "2d2dd4c8-20a4-4de6-8665-e93ef0b17553"
      },
      "execution_count": null,
      "outputs": [
        {
          "output_type": "stream",
          "name": "stdout",
          "text": [
            "Nhập vào số trong giới hạn từ 0 đến 68399\n",
            "300\n",
            "Số bạn nhập là: 300\n",
            "Thời gian là : 0 giờ 5 phút 0 giây. Chúc bạn một ngày vui vẻ\n"
          ]
        }
      ]
    },
    {
      "cell_type": "code",
      "source": [
        "so1 = int(input())\n",
        "so2 = int(input())\n",
        "so3 = int(input())\n",
        "so4 = int(input())\n",
        "list = [so1,so2,so3,so4]\n",
        "list.sort()\n",
        "print(list[0])\n",
        "print(list[-1])"
      ],
      "metadata": {
        "colab": {
          "base_uri": "https://localhost:8080/"
        },
        "id": "X9q6DiJ9h8FG",
        "outputId": "9a552e4a-08a1-4f34-d638-5bc7afc5096e"
      },
      "execution_count": null,
      "outputs": [
        {
          "output_type": "stream",
          "name": "stdout",
          "text": [
            "1\n",
            "3\n",
            "7\n",
            "4\n",
            "1\n",
            "7\n"
          ]
        }
      ]
    },
    {
      "cell_type": "code",
      "source": [
        "a = int(input())\n",
        "b = int(input())\n",
        "c = a - b\n",
        "if c>0:\n",
        "  print(\"A>B\")\n",
        "elif c==0:\n",
        "  print(\"A=B\")\n",
        "else:\n",
        "  print('A<B')\n"
      ],
      "metadata": {
        "colab": {
          "base_uri": "https://localhost:8080/"
        },
        "id": "Ehwktyomjd4U",
        "outputId": "e41f9376-ccfa-4d3a-f088-5c62ff6f65ee"
      },
      "execution_count": null,
      "outputs": [
        {
          "output_type": "stream",
          "name": "stdout",
          "text": [
            "2\n",
            "3\n",
            "A<B\n"
          ]
        }
      ]
    },
    {
      "cell_type": "code",
      "source": [
        "a = int(input())\n",
        "b = int(input())\n",
        "if a%b==0:\n",
        "  print(\"A chia hết cho B\")\n",
        "else:\n",
        "  print(\"không chia hết\")"
      ],
      "metadata": {
        "colab": {
          "base_uri": "https://localhost:8080/"
        },
        "id": "6PR3bxTukDcT",
        "outputId": "821bc751-8bb9-45ca-d238-3f29f92f4662"
      },
      "execution_count": null,
      "outputs": [
        {
          "output_type": "stream",
          "name": "stdout",
          "text": [
            "4\n",
            "2\n",
            "A chia hết cho B\n"
          ]
        }
      ]
    },
    {
      "cell_type": "code",
      "source": [
        "diemtoan = float(input())\n",
        "diemvan = float(input())\n",
        "diemanh = float(input())\n",
        "\n",
        "diemTrungBinh = ((diemtoan*2)+diemvan+diemanh)/4\n",
        "print(diemTrungBinh)\n",
        "if diemTrungBinh >= 9.0:\n",
        "  print(\"Xuất sắc\")\n",
        "elif 8.0<=diemTrungBinh < 9.0:\n",
        "  print(\"Giỏi\")\n",
        "elif 7.0 <= diemTrungBinh <8.0:\n",
        "  print(\"Khá\")\n",
        "elif 6.0 <= diemTrungBinh < 7.0:\n",
        "  print(\"Trung bình khá\")\n",
        "elif 5.0 <= diemTrungBinh < 6.0:\n",
        "  print(\"Trung Bình\")\n",
        "elif diemTrungBinh < 0:\n",
        "  print(\"sai rồi\")\n",
        "else:\n",
        "  print(\"Kém\")"
      ],
      "metadata": {
        "colab": {
          "base_uri": "https://localhost:8080/"
        },
        "id": "12F-Jo9FkWlL",
        "outputId": "cba7055c-f5b9-423e-c681-9b2f67c288e1"
      },
      "execution_count": null,
      "outputs": [
        {
          "output_type": "stream",
          "name": "stdout",
          "text": [
            "-2\n",
            "0\n",
            "1\n",
            "-0.75\n",
            "sai rồi\n"
          ]
        }
      ]
    },
    {
      "cell_type": "markdown",
      "source": [
        "**EXERCISE 2**"
      ],
      "metadata": {
        "id": "Li0k6K-sl5rX"
      }
    },
    {
      "cell_type": "code",
      "source": [
        "nhapvao = int(input())\n",
        "tong = 0\n",
        "while nhapvao > 0:\n",
        "  a = nhapvao % 10\n",
        "  tong = tong + a\n",
        "  nhapvao = nhapvao // 10\n",
        "print(tong)"
      ],
      "metadata": {
        "colab": {
          "base_uri": "https://localhost:8080/"
        },
        "id": "Acdg0ZXll88m",
        "outputId": "13bdb7ce-74ab-49f8-a3de-c2cf97c90cc3"
      },
      "execution_count": null,
      "outputs": [
        {
          "output_type": "stream",
          "name": "stdout",
          "text": [
            "123\n",
            "6\n"
          ]
        }
      ]
    },
    {
      "cell_type": "code",
      "source": [
        "n = 3\n",
        "snt = input()\n",
        "sntlst = snt.split(\",\")\n",
        "print(sntlst)\n",
        "chuoi = sntlst\n",
        "i = 0\n",
        "while i<len(chuoi):\n",
        "  if n > int(chuoi[i]):\n",
        "    print(chuoi[i])\n",
        "  i=i+1\n",
        "\n",
        "\n",
        "\n"
      ],
      "metadata": {
        "colab": {
          "base_uri": "https://localhost:8080/"
        },
        "id": "6mwB5wmdw9Fg",
        "outputId": "806b6d1c-004b-49f7-949a-40bc7d18379e"
      },
      "execution_count": 13,
      "outputs": [
        {
          "output_type": "stream",
          "name": "stdout",
          "text": [
            "1,2,3,4\n",
            "['1', '2', '3', '4']\n",
            "1\n",
            "2\n"
          ]
        }
      ]
    },
    {
      "cell_type": "code",
      "source": [
        "songuyen = int(input())\n",
        "for i in range(1,10):\n",
        "  b = songuyen % i == 0\n",
        "  if b == True:\n",
        "    c = songuyen / i\n",
        "    d = int(c)\n",
        "    print(f\"{d  } * {i} = {songuyen}\")\n"
      ],
      "metadata": {
        "colab": {
          "base_uri": "https://localhost:8080/"
        },
        "id": "B_q7V_7PB6dF",
        "outputId": "be8d5fdc-c4b7-413e-9531-8c2868a0c406"
      },
      "execution_count": 20,
      "outputs": [
        {
          "output_type": "stream",
          "name": "stdout",
          "text": [
            "28\n",
            "28 * 1 = 28\n",
            "14 * 2 = 28\n",
            "7 * 4 = 28\n",
            "4 * 7 = 28\n"
          ]
        }
      ]
    },
    {
      "cell_type": "code",
      "source": [
        "print(\"Nhập từ 1 -> 3 để in ra các số nguyên tố đầu tiên\")\n",
        "a = int(input())\n",
        "\n",
        "print(\"Nhập 1 chuỗi, phân tách bằng dấu ,\")\n",
        "songuyen = input()\n",
        "lst = songuyen.split(\",\")\n",
        "if a==1:\n",
        "  print(lst[0])\n",
        "elif a==2:\n",
        "  print(lst[0], lst[1])\n",
        "elif a==3:\n",
        "  print(lst[0], lst[1], lst[2])\n",
        "else:\n",
        "  (\"Nhập từ 1 đến 3 thôi, nhiều quá in mệt lắm\")"
      ],
      "metadata": {
        "colab": {
          "base_uri": "https://localhost:8080/"
        },
        "id": "K9XYgu5d-Iln",
        "outputId": "67fa5cc5-1d56-4273-c3ba-cd39eb0bf097"
      },
      "execution_count": 15,
      "outputs": [
        {
          "output_type": "stream",
          "name": "stdout",
          "text": [
            "Nhập từ 1 -> 3 để in ra các số nguyên tố đầu tiên\n",
            "1\n",
            "Nhập 1 chuỗi, phân tách bằng dấu ,\n",
            "4,5,6,7,8\n",
            "4\n"
          ]
        }
      ]
    },
    {
      "cell_type": "code",
      "source": [
        "a = int(input())\n",
        "b = int(input())\n",
        "for i in range(1,10):\n",
        "  if a % i == 0 and b % i == 0:\n",
        "    lst = []\n",
        "    lst.append(i)\n",
        "\n",
        "lst.sort()\n",
        "print(lst[0])"
      ],
      "metadata": {
        "colab": {
          "base_uri": "https://localhost:8080/"
        },
        "id": "hAL0oGggBhmD",
        "outputId": "8f7855b8-4d19-4d5a-f776-6c3ba868da9e"
      },
      "execution_count": 29,
      "outputs": [
        {
          "output_type": "stream",
          "name": "stdout",
          "text": [
            "12\n",
            "18\n",
            "6\n"
          ]
        }
      ]
    },
    {
      "cell_type": "code",
      "source": [
        "f0 = 1\n",
        "f1 = 1\n",
        "n = int(input())\n",
        "if n<=1:\n",
        "  print(\"Nhập lại\")\n",
        "else:\n",
        "  lst = []\n",
        "  for i in range(2,n+1):\n",
        "    fx = f0+f1\n",
        "    f0 = f1\n",
        "    f1 = fx\n",
        "    lst.append(fx)\n",
        "  result = fx\n",
        "  print(result)\n",
        "\n",
        "  po = []\n",
        "  i=0\n",
        "  for i in lst:\n",
        "    q = i < n\n",
        "    if q:\n",
        "      po.append(i)\n",
        "  print(po)\n"
      ],
      "metadata": {
        "colab": {
          "base_uri": "https://localhost:8080/"
        },
        "id": "NN36esuTNvy6",
        "outputId": "a605820d-ebe5-4676-94ba-0dcf287e190e"
      },
      "execution_count": 38,
      "outputs": [
        {
          "output_type": "stream",
          "name": "stdout",
          "text": [
            "8\n",
            "34\n",
            "[2, 3, 5]\n"
          ]
        }
      ]
    },
    {
      "cell_type": "code",
      "source": [
        "Question 8"
      ],
      "metadata": {
        "id": "Y1aStJI8Wnru"
      },
      "execution_count": null,
      "outputs": []
    }
  ]
}