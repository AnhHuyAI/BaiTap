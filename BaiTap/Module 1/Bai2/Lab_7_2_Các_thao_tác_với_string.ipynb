{
  "nbformat": 4,
  "nbformat_minor": 0,
  "metadata": {
    "kernelspec": {
      "display_name": "Python 3",
      "language": "python",
      "name": "python3"
    },
    "language_info": {
      "codemirror_mode": {
        "name": "ipython",
        "version": 3
      },
      "file_extension": ".py",
      "mimetype": "text/x-python",
      "name": "python",
      "nbconvert_exporter": "python",
      "pygments_lexer": "ipython3",
      "version": "3.6.8"
    },
    "colab": {
      "provenance": []
    }
  },
  "cells": [
    {
      "cell_type": "markdown",
      "metadata": {
        "id": "uGGiSa1WIw-o"
      },
      "source": [
        "<h1>Lab 7.2 Các thao tác với string</h1>\n",
        "\n",
        "Thời lượng ước tính: **15** phút"
      ]
    },
    {
      "cell_type": "markdown",
      "metadata": {
        "id": "JNZdvQ57Iw-p"
      },
      "source": [
        "<p><strong>Xin chào!</strong> Notebook này sẽ dạy bạn về các thao tác với string (chuỗi) trong Ngôn ngữ lập trình Python. Ở phần cuối của notebook này, bạn sẽ biết các thao tác string cơ bản trong Python, bao gồm lập chỉ mục, escape sequence (dãy thoát) và các tác động đến string.</p>"
      ]
    },
    {
      "cell_type": "markdown",
      "metadata": {
        "id": "0kCVLxIfIw-p"
      },
      "source": [
        "<div class=\"alert alert-block alert-info\" style=\"margin-top: 20px\">\n",
        "    <a href=\"https://cocl.us/topNotebooksPython101Coursera\">\n",
        "         <img src=\"https://s3-api.us-geo.objectstorage.softlayer.net/cf-courses-data/CognitiveClass/PY0101EN/Ad/TopAd.png\" width=\"750\" align=\"center\">\n",
        "    </a>\n",
        "</div>"
      ]
    },
    {
      "cell_type": "markdown",
      "metadata": {
        "id": "Yn2X7jDFIw-q"
      },
      "source": [
        "<h2>Mục lục</h2>\n",
        "<div class=\"alert alert-block alert-info\" style=\"margin-top: 20px\">\n",
        "    <ul>\n",
        "        <li>\n",
        "            <a href=\"#strings\">String là gì?</a>\n",
        "        </li>\n",
        "        <li>\n",
        "            <a href=\"#index\">Indexing (Chỉ mục)</a>\n",
        "            <ul>\n",
        "                <li><a href=\"neg\">Chỉ mục âm</a></li>\n",
        "                <li><a href=\"slice\">Slicing</a></li>\n",
        "                <li><a href=\"stride\">Stride</a></li>\n",
        "                <li><a href=\"concat\">Nối String</a></li>\n",
        "            </ul>\n",
        "        </li>\n",
        "        <li>\n",
        "            <a href=\"#escape\">Escape Sequence</a>\n",
        "        </li>\n",
        "        <li>\n",
        "            <a href=\"#operations\">Thao tác với String</a>\n",
        "        </li>\n",
        "        <li>\n",
        "            <a href=\"#quiz\">Quiz về Strings</a>\n",
        "        </li>\n",
        "    </ul>\n",
        "    <p>\n",
        "        Thời lượng ước tính: <strong>15 phút</strong>\n",
        "    </p>\n",
        "</div>\n",
        "\n",
        "<hr>"
      ]
    },
    {
      "cell_type": "markdown",
      "metadata": {
        "id": "X9LLnH0fIw-q"
      },
      "source": [
        "<h2 id=\"strings\">String là gì?</h2>"
      ]
    },
    {
      "cell_type": "markdown",
      "metadata": {
        "id": "9Od13zsFIw-r"
      },
      "source": [
        "Ví dụ sau cho thấy một string chứa trong cặp dấu nháy kép:"
      ]
    },
    {
      "cell_type": "code",
      "metadata": {
        "id": "4SHlZ_3cIw-r"
      },
      "source": [
        "# Use quotation marks for defining string\n",
        "\n",
        "\"Michael Jackson\""
      ],
      "execution_count": null,
      "outputs": []
    },
    {
      "cell_type": "markdown",
      "metadata": {
        "id": "VRJWHtBvIw-s"
      },
      "source": [
        "Chúng ta cũng có thể sử dụng dấu nháy đơn:"
      ]
    },
    {
      "cell_type": "code",
      "metadata": {
        "id": "DEwLYbihIw-s"
      },
      "source": [
        "# Use single quotation marks for defining string\n",
        "\n",
        "'Michael Jackson'"
      ],
      "execution_count": null,
      "outputs": []
    },
    {
      "cell_type": "markdown",
      "metadata": {
        "id": "vM5sL0l9Iw-s"
      },
      "source": [
        "String có thể là sự kết hợp của khoảng trắng và chữ số:"
      ]
    },
    {
      "cell_type": "code",
      "metadata": {
        "id": "P5unS99wIw-s"
      },
      "source": [
        "# Digitals and spaces in string\n",
        "\n",
        "'1 2 3 4 5 6 '"
      ],
      "execution_count": null,
      "outputs": []
    },
    {
      "cell_type": "markdown",
      "metadata": {
        "id": "8AbVaxOhIw-t"
      },
      "source": [
        "String cũng có thể là sự kết hợp của các ký tự đặc biệt:"
      ]
    },
    {
      "cell_type": "code",
      "metadata": {
        "id": "0LbO6tgeIw-t"
      },
      "source": [
        "# Special characters in string\n",
        "\n",
        "'@#2_#]&*^%$'"
      ],
      "execution_count": null,
      "outputs": []
    },
    {
      "cell_type": "markdown",
      "metadata": {
        "id": "oxGsl71hIw-t"
      },
      "source": [
        "Chúng ta có thể in ra string sử dụng câu lệnh print:"
      ]
    },
    {
      "cell_type": "code",
      "metadata": {
        "id": "5OjWtNIPIw-t"
      },
      "source": [
        "# Print the string\n",
        "\n",
        "print(\"hello!\")"
      ],
      "execution_count": null,
      "outputs": []
    },
    {
      "cell_type": "markdown",
      "metadata": {
        "id": "-t2kWkMjIw-u"
      },
      "source": [
        "Chúng ta có thể liên kết hoặc gán string cho một biến khác:\n"
      ]
    },
    {
      "cell_type": "code",
      "metadata": {
        "id": "p2hY2mgkIw-u"
      },
      "source": [
        "# Assign string to variable\n",
        "\n",
        "Name = \"Michael Jackson\"\n",
        "Name"
      ],
      "execution_count": null,
      "outputs": []
    },
    {
      "cell_type": "markdown",
      "metadata": {
        "id": "K1ne2nJJIw-u"
      },
      "source": [
        "<hr>"
      ]
    },
    {
      "cell_type": "markdown",
      "metadata": {
        "id": "9cKf6pPsIw-u"
      },
      "source": [
        "<h2 id=\"index\">Chỉ mục</h2>"
      ]
    },
    {
      "cell_type": "markdown",
      "metadata": {
        "id": "wn-RdOJvIw-v"
      },
      "source": [
        "Sẽ rất hữu ích nếu coi string là một dãy có thứ tự. Mỗi phần tử trong dãy có thể được truy cập bằng cách sử dụng một chỉ số được biểu thị bằng mảng số:  "
      ]
    },
    {
      "cell_type": "markdown",
      "metadata": {
        "id": "A1Xygi5OIw-v"
      },
      "source": [
        "<img src=\"https://s3-api.us-geo.objectstorage.softlayer.net/cf-courses-data/CognitiveClass/PY0101EN/Chapter%201/Images/StringsIndex.png\" width=\"600\" align=\"center\" />"
      ]
    },
    {
      "cell_type": "markdown",
      "metadata": {
        "id": "9Vu5myzXIw-v"
      },
      "source": [
        "Chỉ mục đầu tiên có thể được truy cập như sau:"
      ]
    },
    {
      "cell_type": "markdown",
      "metadata": {
        "id": "87FzQ3w8Iw-v"
      },
      "source": [
        "<hr/>\n",
        "<div class=\"alert alert-success alertsuccess\" style=\"margin-top: 20px\">\n",
        "[Tip]: Bởi vì chỉ mục bắt đầu từ 0, có nghĩa là chỉ mục đầu tiên nằm trên chỉ mục 0.\n",
        "</div>\n",
        "<hr/>"
      ]
    },
    {
      "cell_type": "code",
      "metadata": {
        "id": "AiC3IP9-Iw-w",
        "outputId": "14fcbea7-cfd5-4c25-fd16-ca2e5428433e",
        "colab": {
          "base_uri": "https://localhost:8080/"
        }
      },
      "source": [
        "# Print the first element in the string\n",
        "Name = \"Michael Jackson\"\n",
        "print(Name[0])"
      ],
      "execution_count": 46,
      "outputs": [
        {
          "output_type": "stream",
          "name": "stdout",
          "text": [
            "M\n"
          ]
        }
      ]
    },
    {
      "cell_type": "markdown",
      "metadata": {
        "id": "npSZD_6SIw-w"
      },
      "source": [
        "Chúng ta có thể truy cập chỉ mục 6:"
      ]
    },
    {
      "cell_type": "code",
      "metadata": {
        "id": "CwjqCofWIw-w",
        "outputId": "f83198ff-c28d-4f60-f095-d19911b87ea2",
        "colab": {
          "base_uri": "https://localhost:8080/"
        }
      },
      "source": [
        "# Print the element on index 6 in the string\n",
        "Name = \"Michael Jackson\"\n",
        "print(Name[6])"
      ],
      "execution_count": 10,
      "outputs": [
        {
          "output_type": "stream",
          "name": "stdout",
          "text": [
            "l\n"
          ]
        }
      ]
    },
    {
      "cell_type": "markdown",
      "metadata": {
        "id": "5NV5RJRoIw-w"
      },
      "source": [
        "Hơn nữa, chúng ta có thể truy cập chỉ mục thứ 13:"
      ]
    },
    {
      "cell_type": "code",
      "metadata": {
        "id": "Utjb2vKfIw-x"
      },
      "source": [
        "# Print the element on the 13th index in the string\n",
        "Name = \"Michael Jackson\"\n",
        "print(Name[13])"
      ],
      "execution_count": null,
      "outputs": []
    },
    {
      "cell_type": "markdown",
      "metadata": {
        "id": "gAHwanv4Iw-x"
      },
      "source": [
        "<h3 id=\"neg\">Chỉ mục âm</h3>"
      ]
    },
    {
      "cell_type": "markdown",
      "metadata": {
        "id": "QiVK3RtlIw-x"
      },
      "source": [
        " Chúng ta có thể dùng chỉ mục âm với string:"
      ]
    },
    {
      "cell_type": "markdown",
      "metadata": {
        "id": "D06mKfJUIw-x"
      },
      "source": [
        "<img src=\"https://s3-api.us-geo.objectstorage.softlayer.net/cf-courses-data/CognitiveClass/PY0101EN/Chapter%201/Images/StringsNeg.png\" width=\"600\" align=\"center\" />"
      ]
    },
    {
      "cell_type": "markdown",
      "metadata": {
        "id": "T2ezEC7sIw-x"
      },
      "source": [
        "Chỉ mục âm có thể giúp chúng ta đếm phần tử từ cuối string."
      ]
    },
    {
      "cell_type": "markdown",
      "metadata": {
        "id": "bhA18GRtIw-y"
      },
      "source": [
        "Phần tử cuối cùng được cho bởi chỉ mục -1:"
      ]
    },
    {
      "cell_type": "code",
      "metadata": {
        "id": "WVuMSryCIw-y",
        "outputId": "2352fd15-ec06-491a-f800-846563e04c4c",
        "colab": {
          "base_uri": "https://localhost:8080/",
          "height": 182
        }
      },
      "source": [
        "# Print the last element in the string\n",
        "Name = \"Michael Jackson\"\n",
        "print(Name[-1])"
      ],
      "execution_count": 9,
      "outputs": [
        {
          "output_type": "error",
          "ename": "NameError",
          "evalue": "name 'Name' is not defined",
          "traceback": [
            "\u001b[0;31m---------------------------------------------------------------------------\u001b[0m",
            "\u001b[0;31mNameError\u001b[0m                                 Traceback (most recent call last)",
            "\u001b[0;32m<ipython-input-9-b16123749bbd>\u001b[0m in \u001b[0;36m<cell line: 3>\u001b[0;34m()\u001b[0m\n\u001b[1;32m      1\u001b[0m \u001b[0;31m# Print the last element in the string\u001b[0m\u001b[0;34m\u001b[0m\u001b[0;34m\u001b[0m\u001b[0m\n\u001b[1;32m      2\u001b[0m \u001b[0;34m\u001b[0m\u001b[0m\n\u001b[0;32m----> 3\u001b[0;31m \u001b[0mprint\u001b[0m\u001b[0;34m(\u001b[0m\u001b[0mName\u001b[0m\u001b[0;34m[\u001b[0m\u001b[0;34m-\u001b[0m\u001b[0;36m1\u001b[0m\u001b[0;34m]\u001b[0m\u001b[0;34m)\u001b[0m\u001b[0;34m\u001b[0m\u001b[0;34m\u001b[0m\u001b[0m\n\u001b[0m",
            "\u001b[0;31mNameError\u001b[0m: name 'Name' is not defined"
          ]
        }
      ]
    },
    {
      "cell_type": "markdown",
      "metadata": {
        "id": "I0LHZvdnIw-y"
      },
      "source": [
        "Phần tử đầu tiên có thể nhận được bằng chỉ mục -15:"
      ]
    },
    {
      "cell_type": "code",
      "metadata": {
        "id": "hHSpAEJPIw-y"
      },
      "source": [
        "# Print the first element in the string\n",
        "Name = \"Michael Jackson\"\n",
        "print(Name[-15])"
      ],
      "execution_count": null,
      "outputs": []
    },
    {
      "cell_type": "markdown",
      "metadata": {
        "id": "paAlmQZqIw-y"
      },
      "source": [
        "Chúng ta có thể tìm số ký tự trong một string bằng cách sử dụng <code>len</code>, viết tắt của length:"
      ]
    },
    {
      "cell_type": "code",
      "metadata": {
        "id": "Vzx9VNcbIw-z",
        "outputId": "295d6185-757e-40cf-f16c-d1e919321de3",
        "colab": {
          "base_uri": "https://localhost:8080/"
        }
      },
      "source": [
        "# Find the length of string\n",
        "Name = \"Michael Jackson\"\n",
        "len(\"Michael Jackson\")"
      ],
      "execution_count": 11,
      "outputs": [
        {
          "output_type": "execute_result",
          "data": {
            "text/plain": [
              "15"
            ]
          },
          "metadata": {},
          "execution_count": 11
        }
      ]
    },
    {
      "cell_type": "markdown",
      "metadata": {
        "id": "khQnYozQIw-z"
      },
      "source": [
        "<h3 id=\"slice\">Slicing</h3>"
      ]
    },
    {
      "cell_type": "markdown",
      "metadata": {
        "id": "4OjlgibjIw-z"
      },
      "source": [
        "Chúng ta có thể lấy nhiều ký tự từ một string bằng cách sử dụng slicing (lấy khoảng giá trị), chúng ta có thể lấy phần tử 0 đến 4 và 8 đến 12:  "
      ]
    },
    {
      "cell_type": "markdown",
      "metadata": {
        "id": "PFIZKA1WIw-z"
      },
      "source": [
        "<img src=\"https://s3-api.us-geo.objectstorage.softlayer.net/cf-courses-data/CognitiveClass/PY0101EN/Chapter%201/Images/StringsSlice.png\" width=\"600\" align=\"center\" />"
      ]
    },
    {
      "cell_type": "markdown",
      "metadata": {
        "id": "r3TWrnj7Iw-z"
      },
      "source": [
        "<hr/>\n",
        "<div class=\"alert alert-success alertsuccess\" style=\"margin-top: 20px\">\n",
        "[Tip]: Khi lấy khoảng giá trị, số đầu tiên là chỉ mục (bắt đầu từ 0) và số thứ hai là độ dài từ chỉ mục đến phần tử cuối cùng bạn muốn (bắt đầu từ 1)\n",
        "</div>\n",
        "<hr/>"
      ]
    },
    {
      "cell_type": "code",
      "metadata": {
        "id": "KJSXJ12IIw-0"
      },
      "source": [
        "# Take the slice on variable Name with only index 0 to index 3\n",
        "\n",
        "Name[0:4]"
      ],
      "execution_count": null,
      "outputs": []
    },
    {
      "cell_type": "code",
      "metadata": {
        "id": "6fD9vuG1Iw-0"
      },
      "source": [
        "# Take the slice on variable Name with only index 8 to index 11\n",
        "\n",
        "Name[8:12]"
      ],
      "execution_count": null,
      "outputs": []
    },
    {
      "cell_type": "markdown",
      "metadata": {
        "id": "S9A2Pc1wIw-0"
      },
      "source": [
        "<h3 id=\"stride\">Stride</h3>"
      ]
    },
    {
      "cell_type": "markdown",
      "metadata": {
        "id": "d_tYE51JIw-1"
      },
      "source": [
        "Chúng ta cũng có thể nhập giá trị stride như sau, với '2' cho biết rằng chúng ta đang chọn mọi biến thứ hai:"
      ]
    },
    {
      "cell_type": "markdown",
      "metadata": {
        "id": "46FHvY4vIw-1"
      },
      "source": [
        "<img src=\"https://s3-api.us-geo.objectstorage.softlayer.net/cf-courses-data/CognitiveClass/PY0101EN/Chapter%201/Images/StringsStride.png\" width=\"600\" align=\"center\" />"
      ]
    },
    {
      "cell_type": "code",
      "metadata": {
        "id": "8eay9_vHIw-1"
      },
      "source": [
        "# Get every second element. The elments on index 1, 3, 5 ...\n",
        "\n",
        "Name[::2]"
      ],
      "execution_count": null,
      "outputs": []
    },
    {
      "cell_type": "markdown",
      "metadata": {
        "id": "tw12GxokIw-1"
      },
      "source": [
        "Chúng ta cũng có thể kết hợp slicing với stride. Trong trường hợp này, chúng ta chọn năm phần tử đầu tiên và sau đó sử dụng stride:"
      ]
    },
    {
      "cell_type": "code",
      "metadata": {
        "id": "2lB3icdbIw-1"
      },
      "source": [
        "# Get every second element in the range from index 0 to index 4\n",
        "\n",
        "Name[0:5:2]"
      ],
      "execution_count": null,
      "outputs": []
    },
    {
      "cell_type": "markdown",
      "metadata": {
        "id": "OD_cW3VUIw-2"
      },
      "source": [
        "<h3 id=\"concat\">Nối String</h3>"
      ]
    },
    {
      "cell_type": "markdown",
      "metadata": {
        "id": "mX8WG3T6Iw-2"
      },
      "source": [
        "Chúng ta có thể nối hoặc kết hợp các string bằng cách sử dụng các ký hiệu cộng và kết quả được một string mới là sự kết hợp của cả hai:\n"
      ]
    },
    {
      "cell_type": "code",
      "metadata": {
        "id": "DxCcpBUtIw-2"
      },
      "source": [
        "# Concatenate two strings\n",
        "\n",
        "Statement = Name + \"is the best\"\n",
        "Statement"
      ],
      "execution_count": null,
      "outputs": []
    },
    {
      "cell_type": "markdown",
      "metadata": {
        "id": "Ui-R0Yz5Iw-2"
      },
      "source": [
        "Để sao chép các giá trị của một string, chúng ta chỉ cần nhân string với số lần chúng ta muốn sao chép nó. Trong trường hợp này là 3. Kết quả là một string mới, bao gồm 3 bản sao của string ban đầu:"
      ]
    },
    {
      "cell_type": "code",
      "metadata": {
        "id": "WYMq656gIw-3"
      },
      "source": [
        "# Print the string for 3 times\n",
        "\n",
        "3 * \"Michael Jackson\""
      ],
      "execution_count": null,
      "outputs": []
    },
    {
      "cell_type": "markdown",
      "metadata": {
        "id": "0TZK6PUDIw-3"
      },
      "source": [
        "Bạn có thể tạo một string mới bằng cách đặt nó thành biến ban đầu. Được nối với một string mới, kết quả là string mới thay đổi từ Michael Jackson thành \"Michael Jackson is the best\".\n"
      ]
    },
    {
      "cell_type": "code",
      "metadata": {
        "id": "48GlcpNKIw-3"
      },
      "source": [
        "# Concatenate strings\n",
        "\n",
        "Name = \"Michael Jackson\"\n",
        "Name = Name + \" is the best\"\n",
        "Name"
      ],
      "execution_count": null,
      "outputs": []
    },
    {
      "cell_type": "markdown",
      "metadata": {
        "id": "AY5D1ZUuIw-3"
      },
      "source": [
        "<hr>"
      ]
    },
    {
      "cell_type": "markdown",
      "metadata": {
        "id": "_7Y9c93GIw-4"
      },
      "source": [
        "<h2 id=\"escape\">Escape Sequence</h2>"
      ]
    },
    {
      "cell_type": "markdown",
      "metadata": {
        "id": "0TQHZ-qbIw-4"
      },
      "source": [
        "Dấu gạch chéo ngược biểu thị sự bắt đầu của escape sequence. Escape thể hiện rằng các string có thể khó nhập. Ví dụ, \\n đại diện cho một dòng mới. Đầu ra được đưa ra bởi một dòng mới sau khi bắt gặp \\n:"
      ]
    },
    {
      "cell_type": "code",
      "metadata": {
        "id": "pf_uGt7wIw-4"
      },
      "source": [
        "# New line escape sequence\n",
        "\n",
        "print(\" Michael Jackson \\n is the best\" )"
      ],
      "execution_count": null,
      "outputs": []
    },
    {
      "cell_type": "markdown",
      "metadata": {
        "id": "CkKvwn0AIw-4"
      },
      "source": [
        "Tương tự, \\t thể hiện một khoảng cách (tương tự tạo khoảng cách khi nhấn nút tab):"
      ]
    },
    {
      "cell_type": "code",
      "metadata": {
        "id": "oB1ekiRFIw-5"
      },
      "source": [
        "# Tab escape sequence\n",
        "\n",
        "print(\" Michael Jackson \\t is the best\" )"
      ],
      "execution_count": null,
      "outputs": []
    },
    {
      "cell_type": "markdown",
      "metadata": {
        "id": "AqGNcZsXIw-5"
      },
      "source": [
        "Nếu bạn muốn đặt dấu gạch chéo ngược trong string của mình, hãy sử dụng dấu gạch chéo ngược kép:"
      ]
    },
    {
      "cell_type": "code",
      "metadata": {
        "id": "SGPbWHuPIw-5"
      },
      "source": [
        "# Include back slash in string\n",
        "\n",
        "print(\" Michael Jackson \\\\ is the best\" )"
      ],
      "execution_count": null,
      "outputs": []
    },
    {
      "cell_type": "markdown",
      "metadata": {
        "id": "WZUly_-XIw-5"
      },
      "source": [
        "Chúng ta cũng có thể đặt \"r\" trước string để hiển thị dấu gạch chéo ngược:"
      ]
    },
    {
      "cell_type": "code",
      "metadata": {
        "id": "u9sGu58oIw-5"
      },
      "source": [
        "# r will tell python that string will be display as raw string\n",
        "\n",
        "print(r\" Michael Jackson \\ is the best\" )"
      ],
      "execution_count": null,
      "outputs": []
    },
    {
      "cell_type": "markdown",
      "metadata": {
        "id": "P36EttTQIw-5"
      },
      "source": [
        "<hr>"
      ]
    },
    {
      "cell_type": "markdown",
      "metadata": {
        "id": "6F63b5w3Iw-6"
      },
      "source": [
        "<h2 id=\"operations\">Thao tác với String</h2>"
      ]
    },
    {
      "cell_type": "markdown",
      "metadata": {
        "id": "3RnqtPEcIw-6"
      },
      "source": [
        "Có nhiều phương thức thao tác string trong Python có thể sử dụng để thao tác dữ liệu. Chúng ta sẽ sử dụng một số thao tác string cơ bản trên dữ liệu."
      ]
    },
    {
      "cell_type": "markdown",
      "metadata": {
        "id": "BaWCH2j0Iw-6"
      },
      "source": [
        "Hãy thử phương thức <code>upper</code>; phương thức này chuyển đổi các ký tự chữ thường thành các ký tự viết hoa:"
      ]
    },
    {
      "cell_type": "code",
      "metadata": {
        "id": "ZGetfoNQIw-6"
      },
      "source": [
        "# Convert all the characters in string to upper case\n",
        "\n",
        "A = \"Thriller is the sixth studio album\"\n",
        "print(\"before upper:\", A)\n",
        "B = A.upper()\n",
        "print(\"After upper:\", B)"
      ],
      "execution_count": null,
      "outputs": []
    },
    {
      "cell_type": "markdown",
      "metadata": {
        "id": "hJhTt4drIw-6"
      },
      "source": [
        "Phương thức <code> replace</code> thay thế một phân đoạn của string, tức là thay một sub-string (chuỗi con) bằng một string mới. Chúng ta nhập phần của string muốn thay đổi. Đối số thứ hai là những gì chúng ta muốn trao đổi phân đoạn và kết quả được một string mới với phân đoạn đã thay đổi:\n"
      ]
    },
    {
      "cell_type": "code",
      "metadata": {
        "id": "tfbodP6DIw-7"
      },
      "source": [
        "# Replace the old substring with the new target substring is the segment has been found in the string\n",
        "\n",
        "A = \"Michael Jackson is the best\"\n",
        "B = A.replace('Michael', 'Janet')\n",
        "B"
      ],
      "execution_count": null,
      "outputs": []
    },
    {
      "cell_type": "markdown",
      "metadata": {
        "id": "6e5ansgWIw-7"
      },
      "source": [
        "Phương thức <code> find</code> tìm một sub-string. Đối số là sub-string bạn muốn tìm và đầu ra là chỉ mục đầu tiên của dãy. Chúng ta có thể tìm thấy sub-string <code> jack</code> hoặc <code> el</code>."
      ]
    },
    {
      "cell_type": "markdown",
      "metadata": {
        "id": "90AycbCPIw-7"
      },
      "source": [
        "<img src=\"https://s3-api.us-geo.objectstorage.softlayer.net/cf-courses-data/CognitiveClass/PY0101EN/Chapter%201/Images/StringsFind.png\" width=\"600\" align=\"center\" />"
      ]
    },
    {
      "cell_type": "code",
      "metadata": {
        "id": "wVX-qvWuIw-7"
      },
      "source": [
        "# Find the substring in the string. Only the index of the first elment of substring in string will be the output\n",
        "\n",
        "Name = \"Michael Jackson\"\n",
        "Name.find('el')"
      ],
      "execution_count": null,
      "outputs": []
    },
    {
      "cell_type": "code",
      "metadata": {
        "id": "fcXiifp7Iw-8"
      },
      "source": [
        "# Find the substring in the string.\n",
        "\n",
        "Name.find('Jack')"
      ],
      "execution_count": null,
      "outputs": []
    },
    {
      "cell_type": "markdown",
      "metadata": {
        "id": "acNTCRWfIw-8"
      },
      "source": [
        "Nếu sub-string không nằm trong string thì kết quả đầu ra là phủ nhận. Ví dụ: string 'Jasdfasdasdf' không phải là sub-string:"
      ]
    },
    {
      "cell_type": "code",
      "metadata": {
        "collapsed": true,
        "id": "oSCgbSc_Iw-8"
      },
      "source": [
        "# If cannot find the substring in the string\n",
        "\n",
        "Name.find('Jasdfasdasdf')"
      ],
      "execution_count": null,
      "outputs": []
    },
    {
      "cell_type": "markdown",
      "metadata": {
        "id": "XzmorhLpIw-8"
      },
      "source": [
        "<hr>"
      ]
    },
    {
      "cell_type": "markdown",
      "metadata": {
        "id": "U6_QvvNpIw-8"
      },
      "source": [
        "<h2 id=\"quiz\">Quiz về String</h2>"
      ]
    },
    {
      "cell_type": "markdown",
      "metadata": {
        "id": "b46a5K6JIw-9"
      },
      "source": [
        "Giá trị của biến <code>A</code> sau khi đoạn code sau được thực thi là bao nhiêu?"
      ]
    },
    {
      "cell_type": "code",
      "metadata": {
        "collapsed": true,
        "id": "PmeSA_ibIw-9",
        "outputId": "f794b329-5141-457f-e2ab-e9088dcd47ba",
        "colab": {
          "base_uri": "https://localhost:8080/"
        }
      },
      "source": [
        "# Write your code below and press Shift+Enter to execute\n",
        "\n",
        "A = \"1\"\n",
        "print(A)"
      ],
      "execution_count": 13,
      "outputs": [
        {
          "output_type": "stream",
          "name": "stdout",
          "text": [
            "1\n"
          ]
        }
      ]
    },
    {
      "cell_type": "markdown",
      "metadata": {
        "id": "QTkF-dRAIw-9"
      },
      "source": [
        "Bấm vào <b>đây</b> để xem đáp án.\n",
        "\n",
        "<!-- Your answer is below:\n",
        "\"1\"\n",
        "-->"
      ]
    },
    {
      "cell_type": "markdown",
      "metadata": {
        "id": "Rpdfut1IIw-9"
      },
      "source": [
        "Giá trị của biến <code>B</code> sau khi đoạn code sau được thực thi là bao nhiêu?"
      ]
    },
    {
      "cell_type": "code",
      "metadata": {
        "collapsed": true,
        "id": "xBYdlk3IIw--"
      },
      "source": [
        "# Write your code below and press Shift+Enter to execute\n",
        "\n",
        "B = \"2\"\n",
        "print(B)"
      ],
      "execution_count": null,
      "outputs": []
    },
    {
      "cell_type": "markdown",
      "metadata": {
        "id": "UY-gY25wIw--"
      },
      "source": [
        "Bấm vào <b>đây</b> để xem đáp án.\n",
        "\n",
        "<!-- Your answer is below:\n",
        "\"2\"\n",
        "-->"
      ]
    },
    {
      "cell_type": "markdown",
      "metadata": {
        "id": "P50XcZYiIw--"
      },
      "source": [
        "Giá trị của biến <code>C</code> sau khi đoạn code sau được thực thi là bao nhiêu?"
      ]
    },
    {
      "cell_type": "code",
      "metadata": {
        "id": "SxkNwck_Iw--",
        "outputId": "f7d082c5-5d66-4774-c9a0-381841fa4acb",
        "colab": {
          "base_uri": "https://localhost:8080/"
        }
      },
      "source": [
        "# Write your code below and press Shift+Enter to execute\n",
        "A = \"1\"\n",
        "B = \"2\"\n",
        "C = A + B\n",
        "print(A+B)"
      ],
      "execution_count": 20,
      "outputs": [
        {
          "output_type": "stream",
          "name": "stdout",
          "text": [
            "12\n"
          ]
        }
      ]
    },
    {
      "cell_type": "markdown",
      "metadata": {
        "id": "9HTHt4XNIw--"
      },
      "source": [
        "Bấm vào <b>đây</b> để xem đáp án.\n",
        "\n",
        "<!-- Your answer is below:\n",
        "\"12\"\n",
        "-->"
      ]
    },
    {
      "cell_type": "markdown",
      "metadata": {
        "id": "so_o6N_vIw-_"
      },
      "source": [
        "<hr>"
      ]
    },
    {
      "cell_type": "markdown",
      "metadata": {
        "id": "Y69Cg1mmIw-_"
      },
      "source": [
        "Hãy xem xét biến <code>D</code> sử dụng slicing để in ra ba phần tử đầu tiên:"
      ]
    },
    {
      "cell_type": "code",
      "metadata": {
        "id": "NXyOH5DBIw-_",
        "outputId": "aa531778-4226-4268-8b10-c2cf3df6def7",
        "colab": {
          "base_uri": "https://localhost:8080/"
        }
      },
      "source": [
        "# Write your code below and press Shift+Enter to execute\n",
        "D = \"ABCDEFG\"\n",
        "print(D[0:3])"
      ],
      "execution_count": 24,
      "outputs": [
        {
          "output_type": "stream",
          "name": "stdout",
          "text": [
            "ABC\n"
          ]
        }
      ]
    },
    {
      "cell_type": "markdown",
      "metadata": {
        "id": "v65ABxrIIw-_"
      },
      "source": [
        "Bấm vào <b>đây</b> để xem đáp án.\n",
        "\n",
        "<!-- Your answer is below:\n",
        "print(D[:3])\n",
        "# or\n",
        "print(D[0:3])\n",
        "-->"
      ]
    },
    {
      "cell_type": "markdown",
      "metadata": {
        "id": "fZSH__R4Iw_A"
      },
      "source": [
        "<hr>"
      ]
    },
    {
      "cell_type": "markdown",
      "metadata": {
        "id": "a6zrw9gMIw_A"
      },
      "source": [
        "Sử dụng giá trị stride là 2 để in ra mọi ký tự thứ hai của string <code> E</code>:"
      ]
    },
    {
      "cell_type": "code",
      "metadata": {
        "collapsed": true,
        "id": "3-JnSe4IIw_A",
        "outputId": "67eb88d3-746e-45a2-f216-ed5549f61a0f",
        "colab": {
          "base_uri": "https://localhost:8080/"
        }
      },
      "source": [
        "# Write your code below and press Shift+Enter to execute\n",
        "E = 'clocrkr1e1c1t'\n",
        "print(E[::2])"
      ],
      "execution_count": 27,
      "outputs": [
        {
          "output_type": "stream",
          "name": "stdout",
          "text": [
            "correct\n"
          ]
        }
      ]
    },
    {
      "cell_type": "markdown",
      "metadata": {
        "id": "BDDqb5BaIw_A"
      },
      "source": [
        "Bấm vào <b>đây</b> để xem đáp án.\n",
        "\n",
        "<!-- Your answer is below:\n",
        "print(E[::2])\n",
        "-->"
      ]
    },
    {
      "cell_type": "markdown",
      "metadata": {
        "id": "MnKTo6fEIw_A"
      },
      "source": [
        "<hr>"
      ]
    },
    {
      "cell_type": "markdown",
      "metadata": {
        "id": "Fai4oIdAIw_B"
      },
      "source": [
        "In ra dấu gạch chéo ngược:"
      ]
    },
    {
      "cell_type": "code",
      "metadata": {
        "id": "Z2nxzNA9Iw_B",
        "outputId": "1829d770-c552-4939-a04f-65f171023206",
        "colab": {
          "base_uri": "https://localhost:8080/"
        }
      },
      "source": [
        "# Write your code below and press Shift+Enter to execute\n",
        "print(\"\\\\\")"
      ],
      "execution_count": 31,
      "outputs": [
        {
          "output_type": "stream",
          "name": "stdout",
          "text": [
            "\\\n"
          ]
        }
      ]
    },
    {
      "cell_type": "markdown",
      "metadata": {
        "id": "DIV-AtW9Iw_B"
      },
      "source": [
        "Bấm vào <b>đây</b> để xem đáp án.\n",
        "<!-- Your answer is below:\n",
        "print(\"\\\\\")\n",
        "or\n",
        "print(r\" \\ \")\n",
        "-->"
      ]
    },
    {
      "cell_type": "markdown",
      "metadata": {
        "id": "RDRwV1xpIw_B"
      },
      "source": [
        "<hr>"
      ]
    },
    {
      "cell_type": "markdown",
      "metadata": {
        "id": "OwYFJAnOIw_B"
      },
      "source": [
        "Chuyển biến <code> F</code> thành chữ in hoa:"
      ]
    },
    {
      "cell_type": "code",
      "metadata": {
        "id": "zvKEodduIw_B",
        "outputId": "2d888b99-496e-4c9f-fbf2-78cd5c246efb",
        "colab": {
          "base_uri": "https://localhost:8080/"
        }
      },
      "source": [
        "# Write your code below and press Shift+Enter to execute\n",
        "\n",
        "F = \"You are wrong\"\n",
        "print(F.upper())\n"
      ],
      "execution_count": 36,
      "outputs": [
        {
          "output_type": "stream",
          "name": "stdout",
          "text": [
            "YOU ARE WRONG\n"
          ]
        }
      ]
    },
    {
      "cell_type": "markdown",
      "metadata": {
        "id": "N8rfPFkwIw_C"
      },
      "source": [
        "Bấm vào <b>đây</b> để xem đáp án.\n",
        "\n",
        "<!-- Your answer is below:\n",
        "F.upper()\n",
        "-->"
      ]
    },
    {
      "cell_type": "markdown",
      "metadata": {
        "id": "U8GHkYC1Iw_C"
      },
      "source": [
        "<hr>"
      ]
    },
    {
      "cell_type": "markdown",
      "metadata": {
        "id": "m_7cn2CzIw_C"
      },
      "source": [
        "Xem xét biến <code> G</code> và tìm chỉ mục đầu tiên của sub-string <code> snow</code>:"
      ]
    },
    {
      "cell_type": "code",
      "metadata": {
        "id": "QLWwZR32Iw_C",
        "outputId": "acf28456-b29d-4770-d955-5a5404f99860",
        "colab": {
          "base_uri": "https://localhost:8080/"
        }
      },
      "source": [
        "# Write your code below and press Shift+Enter to execute\n",
        "\n",
        "G = \"Mary had a little lamb Little lamb, little lamb Mary had a little lamb \\\n",
        "Its fleece was white as snow And everywhere that Mary went Mary went, Mary went \\\n",
        "Everywhere that Mary went The lamb was sure to go\"\n",
        "G.find(\"snow\")"
      ],
      "execution_count": 43,
      "outputs": [
        {
          "output_type": "execute_result",
          "data": {
            "text/plain": [
              "95"
            ]
          },
          "metadata": {},
          "execution_count": 43
        }
      ]
    },
    {
      "cell_type": "markdown",
      "metadata": {
        "id": "pdTkRWvjIw_C"
      },
      "source": [
        "Bấm vào <b>đây</b> để xem đáp án.\n",
        "\n",
        "<!-- Your answer is below:\n",
        "G.find(\"snow\")\n",
        "-->"
      ]
    },
    {
      "cell_type": "markdown",
      "metadata": {
        "id": "qiPxnNyNIw_D"
      },
      "source": [
        "Trong biến <code> G</code>, thay thế sub-string <code> Mary</code> bằng <code> Bob</code>:"
      ]
    },
    {
      "cell_type": "code",
      "metadata": {
        "id": "Hju97S9IIw_D",
        "outputId": "72e3d04b-c498-4577-dea8-0c91fc9c8d7e",
        "colab": {
          "base_uri": "https://localhost:8080/"
        }
      },
      "source": [
        "# Write your code below and press Shift+Enter to execute\n",
        "G.replace(\"Mary\",\"Bob\")\n",
        "print(G)"
      ],
      "execution_count": 45,
      "outputs": [
        {
          "output_type": "stream",
          "name": "stdout",
          "text": [
            "Mary had a little lamb Little lamb, little lamb Mary had a little lamb Its fleece was white as snow And everywhere that Mary went Mary went, Mary went Everywhere that Mary went The lamb was sure to go\n"
          ]
        }
      ]
    },
    {
      "cell_type": "markdown",
      "metadata": {
        "id": "zZw6HaczIw_D"
      },
      "source": [
        "Bấm vào <b>đây</b> để xem đáp án.\n",
        "\n",
        "<!-- Your answer is below:\n",
        "G.replace(\"Mary\", \"Bob\")\n",
        "-->"
      ]
    },
    {
      "cell_type": "markdown",
      "metadata": {
        "id": "aPGavNMXIw_D"
      },
      "source": [
        "<hr>\n",
        "<p>Nguồn: IBM\n",
        "<hr>"
      ]
    }
  ]
}