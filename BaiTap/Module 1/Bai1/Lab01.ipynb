{
 "cells": [
  {
   "cell_type": "code",
   "execution_count": 1,
   "id": "3e6fd298-46c4-4522-abdb-4b641b34ac3a",
   "metadata": {},
   "outputs": [
    {
     "name": "stdout",
     "output_type": "stream",
     "text": [
      "2\n"
     ]
    }
   ],
   "source": [
    "x = 1 +1 \n",
    "print(x)"
   ]
  },
  {
   "cell_type": "markdown",
   "id": "d9cbc34f-bbb2-47ac-8338-12ed6d749d1e",
   "metadata": {},
   "source": [
    "# Hi"
   ]
  },
  {
   "cell_type": "code",
   "execution_count": null,
   "id": "9fbe0c61-2b81-4252-b624-12b85c524d09",
   "metadata": {},
   "outputs": [],
   "source": []
  }
 ],
 "metadata": {
  "kernelspec": {
   "display_name": "Python 3 (ipykernel)",
   "language": "python",
   "name": "python3"
  },
  "language_info": {
   "codemirror_mode": {
    "name": "ipython",
    "version": 3
   },
   "file_extension": ".py",
   "mimetype": "text/x-python",
   "name": "python",
   "nbconvert_exporter": "python",
   "pygments_lexer": "ipython3",
   "version": "3.11.7"
  }
 },
 "nbformat": 4,
 "nbformat_minor": 5
}
