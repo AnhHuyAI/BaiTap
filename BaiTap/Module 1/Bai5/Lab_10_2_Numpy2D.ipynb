{
  "nbformat": 4,
  "nbformat_minor": 0,
  "metadata": {
    "kernelspec": {
      "display_name": "Python 3",
      "language": "python",
      "name": "python3"
    },
    "language_info": {
      "codemirror_mode": {
        "name": "ipython",
        "version": 3
      },
      "file_extension": ".py",
      "mimetype": "text/x-python",
      "name": "python",
      "nbconvert_exporter": "python",
      "pygments_lexer": "ipython3",
      "version": "3.7.6"
    },
    "colab": {
      "provenance": [],
      "collapsed_sections": [
        "UyllUD5VWdF4"
      ]
    }
  },
  "cells": [
    {
      "cell_type": "markdown",
      "metadata": {
        "id": "-XI1chsfWdEi"
      },
      "source": [
        "#Lab 8.2 Numpy 2D trong Python\n",
        "\n",
        "Thời lượng ước tính cần thiết: **20** phút\n",
        "\n",
        "## Mục tiêu\n",
        "\n",
        "Sau khi hoàn thành lab này, bạn sẽ có thể:\n",
        "\n",
        "-   Vận hành thoải mái với `numpy`\n",
        "-   Thực hiện các phép toán phức tập với with `numpy`\n"
      ]
    },
    {
      "cell_type": "markdown",
      "metadata": {
        "id": "rVrYLLiuWdEs"
      },
      "source": [
        "<h2>Mục lục</h2>\n",
        "<div class=\"alert alert-block alert-info\" style=\"margin-top: 20px\">\n",
        "    <ul>\n",
        "        <li><a href=\"create\">Tạo mảng Numpy 2D</a></li>\n",
        "        <li><a href=\"access\">Truy cập các phần tử khác nhau trong Mảng Numpy</a></li>\n",
        "        <li><a href=\"op\">Các phép toán cơ bản</a></li>\n",
        "    </ul>\n",
        "  \n",
        "</div>\n",
        "\n",
        "<hr>\n"
      ]
    },
    {
      "cell_type": "markdown",
      "metadata": {
        "id": "1NKxrSDlWdEt"
      },
      "source": [
        "<h2 id=\"create\">Tạo mảng Numpy 2D</h2>\n"
      ]
    },
    {
      "cell_type": "code",
      "metadata": {
        "id": "tGPWn_EMWdEt"
      },
      "source": [
        "# Import the libraries\n",
        "\n",
        "import numpy as np\n",
        "import matplotlib.pyplot as plt"
      ],
      "execution_count": 2,
      "outputs": []
    },
    {
      "cell_type": "markdown",
      "metadata": {
        "id": "Ymmu3A_RWdE1"
      },
      "source": [
        "Hãy xem xét list <code> a</code>, list chứa ba danh sách lồng nhau **có kích thước bằng nhau**."
      ]
    },
    {
      "cell_type": "code",
      "metadata": {
        "id": "3WqGJQZdWdE1",
        "outputId": "eabb949d-010a-4b83-b856-1452b5b21217",
        "colab": {
          "base_uri": "https://localhost:8080/"
        }
      },
      "source": [
        "# Create a list\n",
        "\n",
        "a = [[11, 12, 13], [21, 22, 23], [31, 32, 33]]\n",
        "a"
      ],
      "execution_count": 3,
      "outputs": [
        {
          "output_type": "execute_result",
          "data": {
            "text/plain": [
              "[[11, 12, 13], [21, 22, 23], [31, 32, 33]]"
            ]
          },
          "metadata": {},
          "execution_count": 3
        }
      ]
    },
    {
      "cell_type": "markdown",
      "metadata": {
        "id": "dwIJr94EWdE2"
      },
      "source": [
        "Chúng ta có thể truyền list vào một Mảng Numpy như sau:"
      ]
    },
    {
      "cell_type": "code",
      "metadata": {
        "id": "Y6p_rMV7WdE2",
        "outputId": "802d98ac-d5c6-455a-8b06-f6f1c5cc4a98",
        "colab": {
          "base_uri": "https://localhost:8080/"
        }
      },
      "source": [
        "# Convert list to Numpy Array\n",
        "# Every element is the same type\n",
        "\n",
        "A = np.array(a)\n",
        "A"
      ],
      "execution_count": 4,
      "outputs": [
        {
          "output_type": "execute_result",
          "data": {
            "text/plain": [
              "array([[11, 12, 13],\n",
              "       [21, 22, 23],\n",
              "       [31, 32, 33]])"
            ]
          },
          "metadata": {},
          "execution_count": 4
        }
      ]
    },
    {
      "cell_type": "markdown",
      "metadata": {
        "id": "VCXqAbANWdE-"
      },
      "source": [
        "Chúng ta có thể sử dụng thuộc tính <code> ndim</code> để lấy số lượng trục hoặc chiều được coi là thứ hạng."
      ]
    },
    {
      "cell_type": "code",
      "metadata": {
        "id": "oXa7k1VMWdE-",
        "outputId": "a4765729-fbbc-4f7f-b8ce-58403e666e88",
        "colab": {
          "base_uri": "https://localhost:8080/"
        }
      },
      "source": [
        "# Show the numpy array dimensions\n",
        "\n",
        "A.ndim"
      ],
      "execution_count": 5,
      "outputs": [
        {
          "output_type": "execute_result",
          "data": {
            "text/plain": [
              "2"
            ]
          },
          "metadata": {},
          "execution_count": 5
        }
      ]
    },
    {
      "cell_type": "markdown",
      "metadata": {
        "id": "3q4BVkd2WdE_"
      },
      "source": [
        "Thuộc tính <code> shape</code> trả về tuple tương ứng với kích thước hoặc số lượng của mỗi chiều."
      ]
    },
    {
      "cell_type": "code",
      "metadata": {
        "id": "llFbOF8VWdE_",
        "outputId": "820c3323-e941-42c4-c07c-f1441da76be7",
        "colab": {
          "base_uri": "https://localhost:8080/"
        }
      },
      "source": [
        "# Show the numpy array shape\n",
        "\n",
        "A.shape"
      ],
      "execution_count": 6,
      "outputs": [
        {
          "output_type": "execute_result",
          "data": {
            "text/plain": [
              "(3, 3)"
            ]
          },
          "metadata": {},
          "execution_count": 6
        }
      ]
    },
    {
      "cell_type": "markdown",
      "metadata": {
        "id": "24zaFr91WdFA"
      },
      "source": [
        "Tổng số phần tử trong mảng được cung cấp bởi thuộc tính <code> size</code>."
      ]
    },
    {
      "cell_type": "code",
      "metadata": {
        "id": "Y8wyiUzWWdFG",
        "outputId": "83306d18-f361-4115-85f9-c0617cbddd76",
        "colab": {
          "base_uri": "https://localhost:8080/"
        }
      },
      "source": [
        "# Show the numpy array size\n",
        "\n",
        "A.size"
      ],
      "execution_count": 7,
      "outputs": [
        {
          "output_type": "execute_result",
          "data": {
            "text/plain": [
              "9"
            ]
          },
          "metadata": {},
          "execution_count": 7
        }
      ]
    },
    {
      "cell_type": "markdown",
      "metadata": {
        "id": "5dfeWPEfWdFH"
      },
      "source": [
        "<hr>\n"
      ]
    },
    {
      "cell_type": "markdown",
      "metadata": {
        "id": "nS_GPAqMWdFI"
      },
      "source": [
        "<h2 id=\"access\">Truy cập các phần tử khác nhau của Mảng Numpy</h2>\n"
      ]
    },
    {
      "cell_type": "markdown",
      "metadata": {
        "id": "EQjkeotyWdFI"
      },
      "source": [
        "Chúng ta có thể sử dụng dấu ngoặc vuông để truy cập các phần tử khác nhau của mảng. Sự tương ứng giữa dấu ngoặc vuông với danh sách và biểu diễn hình chữ nhật được thể hiện trong hình sau với mảng 3x3:"
      ]
    },
    {
      "cell_type": "markdown",
      "metadata": {
        "id": "N1ludHn6WdFP"
      },
      "source": [
        "<img src=\"https://cf-courses-data.s3.us.cloud-object-storage.appdomain.cloud/IBMDeveloperSkillsNetwork-PY0101EN-SkillsNetwork/labs/Module%205/images/NumTwoEg.png\" width=\"500\" />\n"
      ]
    },
    {
      "cell_type": "markdown",
      "metadata": {
        "id": "91gZpm9xWdFQ"
      },
      "source": [
        "Chúng ta có thể truy cập vào cột thứ 2 hàng thứ 3 như trong hình sau:"
      ]
    },
    {
      "cell_type": "markdown",
      "metadata": {
        "id": "-K4Jr2gZWdFQ"
      },
      "source": [
        "<img src=\"https://cf-courses-data.s3.us.cloud-object-storage.appdomain.cloud/IBMDeveloperSkillsNetwork-PY0101EN-SkillsNetwork/labs/Module%205/images/NumTwoFT.png\" width=\"400\" />\n"
      ]
    },
    {
      "cell_type": "markdown",
      "metadata": {
        "id": "EMr4XVZeWdFQ"
      },
      "source": [
        "Chúng ta chỉ cần sử dụng dấu ngoặc vuông và các chỉ số tương ứng với phần tử mà chúng ta muốn:"
      ]
    },
    {
      "cell_type": "code",
      "metadata": {
        "id": "Q8Ac6r-aWdFR",
        "outputId": "9e46d66c-9630-4815-8ed2-5f13926a5f73",
        "colab": {
          "base_uri": "https://localhost:8080/"
        }
      },
      "source": [
        "# Access the element on the second row and third column\n",
        "\n",
        "A[1, 2]"
      ],
      "execution_count": 8,
      "outputs": [
        {
          "output_type": "execute_result",
          "data": {
            "text/plain": [
              "23"
            ]
          },
          "metadata": {},
          "execution_count": 8
        }
      ]
    },
    {
      "cell_type": "markdown",
      "metadata": {
        "id": "bJmPBXUhWdFZ"
      },
      "source": [
        "Chúng ta cũng có thể sử dụng ký hiệu sau để lấy các phần tử:"
      ]
    },
    {
      "cell_type": "code",
      "metadata": {
        "id": "GHiFB19TWdFZ",
        "outputId": "4d61c250-b1e4-4c07-e9c7-3b87dcc540ef",
        "colab": {
          "base_uri": "https://localhost:8080/"
        }
      },
      "source": [
        "# Access the element on the second row and third column\n",
        "\n",
        "A[1][2]"
      ],
      "execution_count": 9,
      "outputs": [
        {
          "output_type": "execute_result",
          "data": {
            "text/plain": [
              "23"
            ]
          },
          "metadata": {},
          "execution_count": 9
        }
      ]
    },
    {
      "cell_type": "markdown",
      "metadata": {
        "id": "8xycrmcPWdFc"
      },
      "source": [
        "Hãy xem xét các phần tử được hiển thị trong hình sau:"
      ]
    },
    {
      "cell_type": "markdown",
      "metadata": {
        "id": "iJtPe8PxWdFd"
      },
      "source": [
        "<img src=\"https://cf-courses-data.s3.us.cloud-object-storage.appdomain.cloud/IBMDeveloperSkillsNetwork-PY0101EN-SkillsNetwork/labs/Module%205/images/NumTwoFF.png\" width=\"400\" />\n"
      ]
    },
    {
      "cell_type": "markdown",
      "metadata": {
        "id": "Nsm3CrxpWdFd"
      },
      "source": [
        "Chúng ta có thể truy cập phần tử như sau:"
      ]
    },
    {
      "cell_type": "code",
      "metadata": {
        "id": "oExl9EnmWdFe"
      },
      "source": [
        "# Access the element on the first row and first column\n",
        "\n",
        "A[0][0]"
      ],
      "execution_count": null,
      "outputs": []
    },
    {
      "cell_type": "markdown",
      "metadata": {
        "id": "QTaI2xuxWdFe"
      },
      "source": [
        "Chúng ta cũng có thể sử dụng slicing trong các mảng numpy. Hãy xem xét hình sau. Chúng ta muốn lấy hai cột đầu ở hàng đầu tiên."
      ]
    },
    {
      "cell_type": "markdown",
      "metadata": {
        "id": "AaLo2JzxWdFf"
      },
      "source": [
        "<img src=\"https://cf-courses-data.s3.us.cloud-object-storage.appdomain.cloud/IBMDeveloperSkillsNetwork-PY0101EN-SkillsNetwork/labs/Module%205/images/NumTwoFSF.png\" width=\"400\" />\n"
      ]
    },
    {
      "cell_type": "markdown",
      "metadata": {
        "id": "rmEhx7mCWdFf"
      },
      "source": [
        "Điều này có thể được thực hiện với cú pháp sau:"
      ]
    },
    {
      "cell_type": "code",
      "metadata": {
        "id": "SBlbpfeQWdFf",
        "outputId": "6c57b9d3-3445-43e3-d506-e8a3c7284bd8",
        "colab": {
          "base_uri": "https://localhost:8080/"
        }
      },
      "source": [
        "# Access the element on the first row and first and second columns\n",
        "\n",
        "A[0][0:2]"
      ],
      "execution_count": 10,
      "outputs": [
        {
          "output_type": "execute_result",
          "data": {
            "text/plain": [
              "array([11, 12])"
            ]
          },
          "metadata": {},
          "execution_count": 10
        }
      ]
    },
    {
      "cell_type": "markdown",
      "metadata": {
        "id": "syraMuUaWdFg"
      },
      "source": [
        "Tương tự, chúng ta có thể thu được hai hàng đầu tiên của cột thứ 3 như sau:"
      ]
    },
    {
      "cell_type": "code",
      "metadata": {
        "id": "cNEWwMeRWdFh",
        "outputId": "b6bc5bbd-e8d1-4733-f700-689a83332e2c",
        "colab": {
          "base_uri": "https://localhost:8080/"
        }
      },
      "source": [
        "# Access the element on the first and second rows and third column\n",
        "\n",
        "A[0:2, 2]"
      ],
      "execution_count": 11,
      "outputs": [
        {
          "output_type": "execute_result",
          "data": {
            "text/plain": [
              "array([13, 23])"
            ]
          },
          "metadata": {},
          "execution_count": 11
        }
      ]
    },
    {
      "cell_type": "markdown",
      "metadata": {
        "id": "O75ttt2xWdFh"
      },
      "source": [
        "Tương ứng với hình sau:"
      ]
    },
    {
      "cell_type": "markdown",
      "metadata": {
        "id": "WEnkZY15WdFh"
      },
      "source": [
        "<img src=\"https://cf-courses-data.s3.us.cloud-object-storage.appdomain.cloud/IBMDeveloperSkillsNetwork-PY0101EN-SkillsNetwork/labs/Module%205/images/2D_numpy.png\" width=\"550\"><br />\n"
      ]
    },
    {
      "cell_type": "markdown",
      "metadata": {
        "id": "1EwCF7fOWdFi"
      },
      "source": [
        "<h2 id=\"op\">Các phép toán cơ bản</h2>\n"
      ]
    },
    {
      "cell_type": "markdown",
      "metadata": {
        "id": "8gGPLbD5WdFj"
      },
      "source": [
        "Chúng ta cũng có thể cộng mảng. Quá trình này giống hệt với phép cộng ma trận. Phép cộng ma trận của <code> X</code> và <code> Y</code> được hiển thị trong hình sau:"
      ]
    },
    {
      "cell_type": "markdown",
      "metadata": {
        "id": "ob8IDPa5WdFj"
      },
      "source": [
        "<img src=\"https://cf-courses-data.s3.us.cloud-object-storage.appdomain.cloud/IBMDeveloperSkillsNetwork-PY0101EN-SkillsNetwork/labs/Module%205/images/NumTwoAdd.png\" width=\"500\" />\n"
      ]
    },
    {
      "cell_type": "markdown",
      "metadata": {
        "id": "5DEulZsrWdFj"
      },
      "source": [
        "Mảng numpy được cung cấp bởi <code> X</code> và <code> Y</code>."
      ]
    },
    {
      "cell_type": "code",
      "metadata": {
        "id": "7dYS9u-gWdFk",
        "outputId": "c145050e-66c8-4bbf-fa4f-ce07af5f4870",
        "colab": {
          "base_uri": "https://localhost:8080/"
        }
      },
      "source": [
        "# Create a numpy array X\n",
        "\n",
        "X = np.array([[1, 0], [0, 1]])\n",
        "X"
      ],
      "execution_count": 12,
      "outputs": [
        {
          "output_type": "execute_result",
          "data": {
            "text/plain": [
              "array([[1, 0],\n",
              "       [0, 1]])"
            ]
          },
          "metadata": {},
          "execution_count": 12
        }
      ]
    },
    {
      "cell_type": "code",
      "metadata": {
        "id": "d5K2MXlIWdFl",
        "outputId": "4fd11c71-c2cd-487c-9305-e3d86b40b207",
        "colab": {
          "base_uri": "https://localhost:8080/"
        }
      },
      "source": [
        "# Create a numpy array Y\n",
        "\n",
        "Y = np.array([[2, 1], [1, 2]])\n",
        "Y"
      ],
      "execution_count": 13,
      "outputs": [
        {
          "output_type": "execute_result",
          "data": {
            "text/plain": [
              "array([[2, 1],\n",
              "       [1, 2]])"
            ]
          },
          "metadata": {},
          "execution_count": 13
        }
      ]
    },
    {
      "cell_type": "markdown",
      "metadata": {
        "id": "Qh634RJbWdFm"
      },
      "source": [
        "Chúng ta có thể cộng các mảng numpy như sau:"
      ]
    },
    {
      "cell_type": "code",
      "metadata": {
        "id": "ch7xebc1WdFm",
        "outputId": "3f11f089-9526-4857-f8ff-0083a059fa4e",
        "colab": {
          "base_uri": "https://localhost:8080/"
        }
      },
      "source": [
        "# Add X and Y\n",
        "\n",
        "Z = X + Y\n",
        "Z"
      ],
      "execution_count": 14,
      "outputs": [
        {
          "output_type": "execute_result",
          "data": {
            "text/plain": [
              "array([[3, 1],\n",
              "       [1, 3]])"
            ]
          },
          "metadata": {},
          "execution_count": 14
        }
      ]
    },
    {
      "cell_type": "markdown",
      "metadata": {
        "id": "c5TlSQgCWdFn"
      },
      "source": [
        "Nhân một mảng numpy với một tỷ lệ cũng giống như nhân một ma trận với một vô hướng. Nếu nhân ma trận <code> Y</code> với hệ số vô hướng 2, chúng ta chỉ cần nhân mọi phần tử trong ma trận với 2 như trong hình."
      ]
    },
    {
      "cell_type": "markdown",
      "metadata": {
        "id": "qy59asNMWdFn"
      },
      "source": [
        "<img src=\"https://cf-courses-data.s3.us.cloud-object-storage.appdomain.cloud/IBMDeveloperSkillsNetwork-PY0101EN-SkillsNetwork/labs/Module%205/images/NumTwoDb.png\" width=\"500\" />\n"
      ]
    },
    {
      "cell_type": "markdown",
      "metadata": {
        "id": "I5HbQHzWWdFo"
      },
      "source": [
        "Chúng ta có thể thực hiện thao tác tương tự trong numpy như sauz:"
      ]
    },
    {
      "cell_type": "code",
      "metadata": {
        "id": "moIVrK-bWdFo"
      },
      "source": [
        "# Create a numpy array Y\n",
        "\n",
        "Y = np.array([[2, 1], [1, 2]])\n",
        "Y"
      ],
      "execution_count": null,
      "outputs": []
    },
    {
      "cell_type": "code",
      "metadata": {
        "id": "L6GlfpdtWdFp"
      },
      "source": [
        "# Multiply Y with 2\n",
        "\n",
        "Z = 2 * Y\n",
        "Z"
      ],
      "execution_count": null,
      "outputs": []
    },
    {
      "cell_type": "markdown",
      "metadata": {
        "id": "RlJwJ10jWdFp"
      },
      "source": [
        "Phép nhân hai mảng tương ứng với tích cặp phần tử hoặc phép nhân Hadamard. Xem xét ma trận <code> X</code> và <code> Y</code>. Phép nhân Hadamard tương ứng với việc nhân từng phần tử ở cùng một vị trí, tức là nhân các phần tử chứa trong các ô màu giống nhau với nhau. Kết quả là một ma trận mới có cùng kích thước với ma trận <code> Y</code> hoặc <code> X</code>, như trong hình sau."
      ]
    },
    {
      "cell_type": "markdown",
      "metadata": {
        "id": "JJehog9BWdFq"
      },
      "source": [
        "<img src=\"https://cf-courses-data.s3.us.cloud-object-storage.appdomain.cloud/IBMDeveloperSkillsNetwork-PY0101EN-SkillsNetwork/labs/Module%205/images/NumTwoMul.png\" width=\"500\" />\n"
      ]
    },
    {
      "cell_type": "markdown",
      "metadata": {
        "id": "qc9zl_leWdFq"
      },
      "source": [
        "Chúng ta có thể thực hiện tích cặp phần tử của mảng <code> X</code> và <code> Y</code> như sau:"
      ]
    },
    {
      "cell_type": "code",
      "metadata": {
        "id": "9kz5haDYWdFr",
        "outputId": "f110c7f5-e5c6-422b-80e6-159d079ef4c3",
        "colab": {
          "base_uri": "https://localhost:8080/"
        }
      },
      "source": [
        "# Create a numpy array Y\n",
        "\n",
        "Y = np.array([[2, 1], [1, 2]])\n",
        "Y"
      ],
      "execution_count": 15,
      "outputs": [
        {
          "output_type": "execute_result",
          "data": {
            "text/plain": [
              "array([[2, 1],\n",
              "       [1, 2]])"
            ]
          },
          "metadata": {},
          "execution_count": 15
        }
      ]
    },
    {
      "cell_type": "code",
      "metadata": {
        "id": "qvuCRPCqWdFr",
        "outputId": "fc3d547e-1b4e-4b5b-b40b-bb0f0fa56a89",
        "colab": {
          "base_uri": "https://localhost:8080/"
        }
      },
      "source": [
        "# Create a numpy array X\n",
        "\n",
        "X = np.array([[1, 0], [0, 1]])\n",
        "X"
      ],
      "execution_count": 16,
      "outputs": [
        {
          "output_type": "execute_result",
          "data": {
            "text/plain": [
              "array([[1, 0],\n",
              "       [0, 1]])"
            ]
          },
          "metadata": {},
          "execution_count": 16
        }
      ]
    },
    {
      "cell_type": "code",
      "metadata": {
        "id": "LRfT8MAtWdFr",
        "outputId": "ce6429f8-914c-492c-fb35-9cc0868ac0ea",
        "colab": {
          "base_uri": "https://localhost:8080/"
        }
      },
      "source": [
        "# Multiply X with Y\n",
        "\n",
        "Z = X * Y\n",
        "Z"
      ],
      "execution_count": 17,
      "outputs": [
        {
          "output_type": "execute_result",
          "data": {
            "text/plain": [
              "array([[2, 0],\n",
              "       [0, 2]])"
            ]
          },
          "metadata": {},
          "execution_count": 17
        }
      ]
    },
    {
      "cell_type": "markdown",
      "metadata": {
        "id": "PZO5e_xHWdFs"
      },
      "source": [
        "Chúng ta cũng có thể thực hiện phép nhân ma trận với các mảng numpy <code> A</code> và <code> B</code> như sau:"
      ]
    },
    {
      "cell_type": "markdown",
      "metadata": {
        "id": "vqRRLZTuWdFt"
      },
      "source": [
        "Trước tiên, chúng ta xác định ma trận <code> A</code> và <code> B</code>:"
      ]
    },
    {
      "cell_type": "code",
      "metadata": {
        "id": "c0cgdjZ8WdFt",
        "outputId": "9e4427d3-a8a8-4b86-a632-e6171f8255b5",
        "colab": {
          "base_uri": "https://localhost:8080/"
        }
      },
      "source": [
        "# Create a matrix A\n",
        "\n",
        "A = np.array([[0, 1, 1], [1, 0, 1]])\n",
        "A"
      ],
      "execution_count": 18,
      "outputs": [
        {
          "output_type": "execute_result",
          "data": {
            "text/plain": [
              "array([[0, 1, 1],\n",
              "       [1, 0, 1]])"
            ]
          },
          "metadata": {},
          "execution_count": 18
        }
      ]
    },
    {
      "cell_type": "code",
      "metadata": {
        "id": "ToNHQXJMWdFt",
        "outputId": "c1f5bebb-18a0-4383-cc4c-4c223e9f2185",
        "colab": {
          "base_uri": "https://localhost:8080/"
        }
      },
      "source": [
        "# Create a matrix B\n",
        "\n",
        "B = np.array([[1, 1], [1, 1], [-1, 1]])\n",
        "B"
      ],
      "execution_count": 19,
      "outputs": [
        {
          "output_type": "execute_result",
          "data": {
            "text/plain": [
              "array([[ 1,  1],\n",
              "       [ 1,  1],\n",
              "       [-1,  1]])"
            ]
          },
          "metadata": {},
          "execution_count": 19
        }
      ]
    },
    {
      "cell_type": "markdown",
      "metadata": {
        "id": "a1DpbcdZWdFu"
      },
      "source": [
        "Chúng ta sử dụng hàm numpy <code> dot</code> để nhân các mảng với nhau."
      ]
    },
    {
      "cell_type": "code",
      "metadata": {
        "id": "GSsBJU5wWdFu",
        "outputId": "06d3bca7-e60d-41b8-c175-f4bacbe004a1",
        "colab": {
          "base_uri": "https://localhost:8080/"
        }
      },
      "source": [
        "# Calculate the dot product\n",
        "\n",
        "Z = np.dot(A,B)\n",
        "Z"
      ],
      "execution_count": 20,
      "outputs": [
        {
          "output_type": "execute_result",
          "data": {
            "text/plain": [
              "array([[0, 2],\n",
              "       [0, 2]])"
            ]
          },
          "metadata": {},
          "execution_count": 20
        }
      ]
    },
    {
      "cell_type": "code",
      "metadata": {
        "id": "FpNzWrqCWdFv",
        "outputId": "9498204f-47d4-4765-e83b-b3c1aab99522",
        "colab": {
          "base_uri": "https://localhost:8080/"
        }
      },
      "source": [
        "# Calculate the sine of Z\n",
        "\n",
        "np.sin(Z)"
      ],
      "execution_count": 21,
      "outputs": [
        {
          "output_type": "execute_result",
          "data": {
            "text/plain": [
              "array([[0.        , 0.90929743],\n",
              "       [0.        , 0.90929743]])"
            ]
          },
          "metadata": {},
          "execution_count": 21
        }
      ]
    },
    {
      "cell_type": "markdown",
      "metadata": {
        "id": "GYyVDAaNWdFv"
      },
      "source": [
        "Chúng ta sử dụng thuộc tính numpy <code> T</code> để tính toán ma trận chuyển vị."
      ]
    },
    {
      "cell_type": "code",
      "metadata": {
        "id": "An0SxX5vWdFv",
        "outputId": "c8f13932-16cd-4ff8-e231-789ca0236a7f",
        "colab": {
          "base_uri": "https://localhost:8080/"
        }
      },
      "source": [
        "# Create a matrix C\n",
        "\n",
        "C = np.array([[1,1],[2,2],[3,3]])\n",
        "C"
      ],
      "execution_count": 22,
      "outputs": [
        {
          "output_type": "execute_result",
          "data": {
            "text/plain": [
              "array([[1, 1],\n",
              "       [2, 2],\n",
              "       [3, 3]])"
            ]
          },
          "metadata": {},
          "execution_count": 22
        }
      ]
    },
    {
      "cell_type": "code",
      "metadata": {
        "id": "2UwIQGvYWdFx",
        "outputId": "791dcc88-308d-46cc-a7d8-3e742c030813",
        "colab": {
          "base_uri": "https://localhost:8080/"
        }
      },
      "source": [
        "# Get the transposed of C\n",
        "\n",
        "C.T"
      ],
      "execution_count": 23,
      "outputs": [
        {
          "output_type": "execute_result",
          "data": {
            "text/plain": [
              "array([[1, 2, 3],\n",
              "       [1, 2, 3]])"
            ]
          },
          "metadata": {},
          "execution_count": 23
        }
      ]
    },
    {
      "cell_type": "markdown",
      "metadata": {
        "id": "cSX1LZdyWdFx"
      },
      "source": [
        "<h2>Quiz về Mảng Numpy 2D</h2>\n"
      ]
    },
    {
      "cell_type": "markdown",
      "metadata": {
        "id": "S9NABqEmWdFy"
      },
      "source": [
        "Hãy xem xét list <code> a</code> sau, chuyển nó thành mảng Numpy."
      ]
    },
    {
      "cell_type": "code",
      "metadata": {
        "id": "OEtUYshbWdFy",
        "outputId": "9a1a82f1-767a-42cc-e617-69d7351cde19",
        "colab": {
          "base_uri": "https://localhost:8080/"
        }
      },
      "source": [
        "# Write your code below and press Shift+Enter to execute\n",
        "\n",
        "a = [[1, 2, 3, 4], [5, 6, 7, 8], [9, 10, 11, 12]]\n",
        "b = np.array(a)\n",
        "type(b)\n",
        "b"
      ],
      "execution_count": 34,
      "outputs": [
        {
          "output_type": "execute_result",
          "data": {
            "text/plain": [
              "array([[ 1,  2,  3,  4],\n",
              "       [ 5,  6,  7,  8],\n",
              "       [ 9, 10, 11, 12]])"
            ]
          },
          "metadata": {},
          "execution_count": 34
        }
      ]
    },
    {
      "cell_type": "markdown",
      "metadata": {
        "id": "9Vrw9aa_WdFy"
      },
      "source": [
        "<details><summary>Bấm vào đây để xem đáp án</summary>\n",
        "\n",
        "```python\n",
        "A = np.array(a)\n",
        "A\n",
        "```\n",
        "\n",
        "</details>\n"
      ]
    },
    {
      "cell_type": "markdown",
      "metadata": {
        "id": "1MS4kXrtWdFz"
      },
      "source": [
        "Tính kích thước mảng numpy."
      ]
    },
    {
      "cell_type": "code",
      "metadata": {
        "id": "4ajATiosWdF0",
        "outputId": "7e9a5016-0be4-457a-eff1-f590b3dc7b5e",
        "colab": {
          "base_uri": "https://localhost:8080/"
        }
      },
      "source": [
        "# Write your code below and press Shift+Enter to execute\n",
        "np.size(b)"
      ],
      "execution_count": 29,
      "outputs": [
        {
          "output_type": "execute_result",
          "data": {
            "text/plain": [
              "12"
            ]
          },
          "metadata": {},
          "execution_count": 29
        }
      ]
    },
    {
      "cell_type": "markdown",
      "metadata": {
        "id": "8MTDYlw4WdF0"
      },
      "source": [
        "<details><summary>Bấm vào đây để xem đáp án</summary>\n",
        "\n",
        "```python\n",
        "A.size\n",
        "```\n",
        "\n",
        "</details>\n"
      ]
    },
    {
      "cell_type": "markdown",
      "metadata": {
        "id": "Xxg04WLuWdF0"
      },
      "source": [
        "Truy cập phần tử trên hàng đầu, cột đầu tiên và cột thứ hai."
      ]
    },
    {
      "cell_type": "code",
      "metadata": {
        "id": "SUsVfyG-WdF1",
        "outputId": "c493cb94-83da-4619-933a-4b973af1e351",
        "colab": {
          "base_uri": "https://localhost:8080/"
        }
      },
      "source": [
        "# Write your code below and press Shift+Enter to execute\n",
        "b[0][0:2]"
      ],
      "execution_count": 31,
      "outputs": [
        {
          "output_type": "execute_result",
          "data": {
            "text/plain": [
              "array([1, 2])"
            ]
          },
          "metadata": {},
          "execution_count": 31
        }
      ]
    },
    {
      "cell_type": "markdown",
      "metadata": {
        "id": "xw7hZ2rXWdF1"
      },
      "source": [
        "<details><summary>Bấm vào đây để xem đáp án</summary>\n",
        "\n",
        "```python\n",
        "A[0][0:2]\n",
        "```\n",
        "\n",
        "</details>\n"
      ]
    },
    {
      "cell_type": "markdown",
      "metadata": {
        "id": "z-eH-JM1WdF2"
      },
      "source": [
        "Thực hiện phép nhân ma trận với mảng numpy <code> A</code> và <code> B</code>."
      ]
    },
    {
      "cell_type": "code",
      "metadata": {
        "id": "esfC1yo2WdF2",
        "outputId": "c196b3cf-7e2f-4fa5-9aa2-d0edfb074d13",
        "colab": {
          "base_uri": "https://localhost:8080/"
        }
      },
      "source": [
        "# Write your code below and press Shift+Enter to execute\n",
        "\n",
        "B = np.array([[0, 1], [1, 0], [1, 1], [-1, 0]])\n",
        "B\n",
        "c = np.dot(b,B)\n",
        "c"
      ],
      "execution_count": 37,
      "outputs": [
        {
          "output_type": "execute_result",
          "data": {
            "text/plain": [
              "array([[ 1,  4],\n",
              "       [ 5, 12],\n",
              "       [ 9, 20]])"
            ]
          },
          "metadata": {},
          "execution_count": 37
        }
      ]
    },
    {
      "cell_type": "markdown",
      "metadata": {
        "id": "sgr2nxbMWdF2"
      },
      "source": [
        "<details><summary>Bấm vào đây để xem đáp án</summary>\n",
        "\n",
        "```python\n",
        "X = np.dot(A,B)\n",
        "X\n",
        "```\n",
        "\n",
        "</details>\n"
      ]
    },
    {
      "cell_type": "markdown",
      "metadata": {
        "id": "gxl23VlcWdF3"
      },
      "source": [
        "<hr>\n",
        "Nguồn: IBM\n",
        "<hr>"
      ]
    }
  ]
}