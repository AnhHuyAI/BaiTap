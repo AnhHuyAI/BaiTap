{
  "nbformat": 4,
  "nbformat_minor": 0,
  "metadata": {
    "colab": {
      "provenance": []
    },
    "kernelspec": {
      "name": "python3",
      "display_name": "Python 3"
    },
    "language_info": {
      "name": "python"
    }
  },
  "cells": [
    {
      "cell_type": "code",
      "source": [
        "import numpy as np\n",
        "np.random.seed(42)"
      ],
      "metadata": {
        "id": "eqbH_2HhpvYh"
      },
      "execution_count": 3,
      "outputs": []
    },
    {
      "cell_type": "markdown",
      "source": [
        "# Problem 1: Tạo hai ma trận 3x3 với các phần tử integer ngẫu nhiên từ 1 - 10."
      ],
      "metadata": {
        "id": "X8tlbogelj-t"
      }
    },
    {
      "cell_type": "code",
      "execution_count": 7,
      "metadata": {
        "id": "sV2WdE6nlTrD",
        "outputId": "8b560b79-c736-412d-e073-8aec7fe7489c",
        "colab": {
          "base_uri": "https://localhost:8080/"
        }
      },
      "outputs": [
        {
          "output_type": "execute_result",
          "data": {
            "text/plain": [
              "(array([[ 6,  2,  5],\n",
              "        [ 1, 10,  6],\n",
              "        [ 9,  1, 10]]),\n",
              " array([[3, 7, 4],\n",
              "        [9, 3, 5],\n",
              "        [3, 7, 5]]))"
            ]
          },
          "metadata": {},
          "execution_count": 7
        }
      ],
      "source": [
        "# Your code here\n",
        "a = np.random.randint(1,11, size = (3,3))\n",
        "b = np.random.randint(1,11,size = (3,3))\n",
        "a,b\n"
      ]
    },
    {
      "cell_type": "markdown",
      "source": [
        "# Problem 2: Thực hiện phép cộng phần tử, nhân từng phần tử, tích vô hướng với hai ma trận vừa được tạo.\n"
      ],
      "metadata": {
        "id": "bgEJURQnpxD_"
      }
    },
    {
      "cell_type": "code",
      "source": [
        "# Your code here\n",
        "c = a+b\n",
        "d = a*b\n",
        "e = np.dot(a,b)\n",
        "c,d,e\n"
      ],
      "metadata": {
        "id": "c90439lApclu",
        "outputId": "cc68ff86-7351-4073-de8d-6fec1de6bb6c",
        "colab": {
          "base_uri": "https://localhost:8080/"
        }
      },
      "execution_count": 10,
      "outputs": [
        {
          "output_type": "execute_result",
          "data": {
            "text/plain": [
              "(array([[ 9,  9,  9],\n",
              "        [10, 13, 11],\n",
              "        [12,  8, 15]]),\n",
              " array([[18, 14, 20],\n",
              "        [ 9, 30, 30],\n",
              "        [27,  7, 50]]),\n",
              " array([[ 51,  83,  59],\n",
              "        [111,  79,  84],\n",
              "        [ 66, 136,  91]]))"
            ]
          },
          "metadata": {},
          "execution_count": 10
        }
      ]
    },
    {
      "cell_type": "markdown",
      "source": [
        "# Problem 3: VIết hàm nhận vào một mảng Numpy, sau đó trả về tổng tất cả các phần tử của chúng\n"
      ],
      "metadata": {
        "id": "O7LAFDMlqK2g"
      }
    },
    {
      "cell_type": "code",
      "source": [
        "# Your code here\n",
        "def total(a):\n",
        "  return np.sum(a)\n",
        "\n",
        "a = np.array([[ 9,  9,  9],\n",
        "              [10, 13, 11],\n",
        "              [12,  8, 15]])\n",
        "\n",
        "print(total(a))\n"
      ],
      "metadata": {
        "id": "9noxlvtZpebU",
        "outputId": "92fc68f8-c156-49a4-8511-594382ff4672",
        "colab": {
          "base_uri": "https://localhost:8080/"
        }
      },
      "execution_count": 14,
      "outputs": [
        {
          "output_type": "stream",
          "name": "stdout",
          "text": [
            "96\n"
          ]
        }
      ]
    }
  ]
}